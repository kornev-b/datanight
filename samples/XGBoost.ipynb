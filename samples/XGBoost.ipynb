{
 "cells": [
  {
   "cell_type": "code",
   "execution_count": 1,
   "metadata": {
    "collapsed": false
   },
   "outputs": [],
   "source": [
    "from sklearn.ensemble import GradientBoostingClassifier\n",
    "import pandas as pd\n",
    "from sklearn.preprocessing import scale\n",
    "from sklearn.preprocessing import StandardScaler\n",
    "import numpy as np\n",
    "import sklearn.cross_validation as cv\n",
    "import time\n",
    "import datetime\n",
    "from sklearn.linear_model import LogisticRegression\n",
    "from sklearn.grid_search import GridSearchCV\n",
    "from sklearn.feature_selection import VarianceThreshold\n",
    "from sklearn.ensemble import ExtraTreesClassifier\n",
    "from sklearn.feature_selection import SelectFromModel\n",
    "from sklearn.feature_selection import SelectKBest\n",
    "from sklearn.feature_selection import chi2\n",
    "from sklearn.svm import LinearSVC\n",
    "from sklearn.preprocessing import Imputer\n",
    "from sklearn.preprocessing import OneHotEncoder\n",
    "from sklearn.cross_validation import train_test_split\n",
    "from sklearn.metrics import roc_auc_score\n",
    "import matplotlib\n",
    "import matplotlib.pylab as plt\n",
    "from matplotlib.pylab import rcParams\n",
    "import operator\n",
    "import math\n",
    "import itertools\n",
    "import xgboost as xgb\n",
    "from xgboost.sklearn import XGBClassifier\n",
    "from sklearn import cross_validation, metrics\n",
    "\n",
    "def add_heroes_bags(data):\n",
    "    hero_cols = data.columns[data.columns.str.contains('hero')]\n",
    "    X_pick = np.zeros((data.shape[0], 113))\n",
    "    for i, match_id in enumerate(data.index):\n",
    "        for p in xrange(5):\n",
    "            X_pick[i, data.ix[match_id, 'r%d_hero' % (p+1)]-1] = 1\n",
    "            X_pick[i, data.ix[match_id, 'd%d_hero' % (p+1)]-1] = -1\n",
    "    data = data.drop(hero_cols,axis=1)\n",
    "    for i in xrange(112):\n",
    "        data['hero_%d' % (i+1)] = X_pick[:, i]\n",
    "    return data\n",
    "\n",
    "def fill_nans(data):\n",
    "    data['first_blood_team'].replace(0,-1)\n",
    "    data['first_blood_team'] = data['first_blood_team'].fillna(0)\n",
    "    nullcols = list(data.columns[data.isnull().any(axis=0)].values)\n",
    "    for nil in nullcols:\n",
    "        data[nil] = data[nil].fillna(data[nil].median())\n",
    "    return data\n",
    "\n",
    "def replace_col_withsum(data, name):\n",
    "    cols = data.columns[data.columns.str.contains(name)]\n",
    "    data[name] = data[cols[cols.str.contains('^r')]].sum(axis=1) - data[cols[cols.str.contains('^d')]].sum(axis=1)\n",
    "    data = data.drop(cols,axis=1)\n",
    "    return data\n",
    "\n",
    "def iqr_clean(data, col):\n",
    "    q75, q25 = np.percentile(data[col], [75 ,25])\n",
    "    iqr = q75 - q25\n",
    "    d1 = q25 - 1.5 * iqr\n",
    "    d2 = q75 + 1.5 * iqr\n",
    "    data = data[data[col] > d1]\n",
    "    data = data[data[col] < d2]\n",
    "    return data\n",
    "    \n",
    "def get_test_data(filename):\n",
    "    data = pd.read_csv(filename, index_col=None)\n",
    "    data = fill_nans(data)\n",
    "    data = replace_col_withsum(data,'level')\n",
    "    data = replace_col_withsum(data,'gold')\n",
    "    data = replace_col_withsum(data,'xp')\n",
    "    data = replace_col_withsum(data,'kills')\n",
    "    data = replace_col_withsum(data,'lh')\n",
    "    data = replace_col_withsum(data,'items')\n",
    "    data = replace_col_withsum(data,'deaths')\n",
    "    return data\n",
    "\n",
    "def get_train_data(filename):\n",
    "    data = pd.read_csv(filename, index_col='match_id')\n",
    "    data = iqr_clean(data,'duration')\n",
    "#     data['radiant_win'] = data['radiant_win'].replace(0, -1)\n",
    "    data = data.drop(['duration',\n",
    "                              'tower_status_radiant',\n",
    "                              'tower_status_dire',\n",
    "                              'barracks_status_radiant',\n",
    "                              'barracks_status_dire'],\n",
    "                     axis=1)\n",
    "\n",
    "    data = fill_nans(data)\n",
    "    data = replace_col_withsum(data,'level')\n",
    "    data = replace_col_withsum(data,'gold')\n",
    "    data = replace_col_withsum(data,'xp')\n",
    "    data = replace_col_withsum(data,'kills')\n",
    "    data = replace_col_withsum(data,'lh')\n",
    "    data = replace_col_withsum(data,'items')\n",
    "    data = replace_col_withsum(data,'deaths')  \n",
    "    return data\n",
    "\n",
    "def get_lobby_games(data, lobby):\n",
    "    data = data[data['lobby_type'] == lobby]\n",
    "    del data['lobby_type']\n",
    "    target = data['radiant_win']\n",
    "    del data['radiant_win']\n",
    "    return data, target\n",
    "\n",
    "def modelfit(alg, dtrain, target, feature_names=None, useTrainCV=True, cv_folds=5, early_stopping_rounds=50):\n",
    "    \n",
    "    if useTrainCV:\n",
    "        xgb_param = alg.get_xgb_params()\n",
    "        xgtrain = xgb.DMatrix(dtrain, label=target)\n",
    "        cvresult = xgb.cv(xgb_param, xgtrain, num_boost_round=alg.get_params()['n_estimators'], nfold=cv_folds,\n",
    "            metrics='auc', early_stopping_rounds=early_stopping_rounds, verbose_eval=0, seed=241)\n",
    "#         alg.set_params(n_estimators=cvresult.shape[0])\n",
    "        print 'cv_result: '\n",
    "        print cvresult.mean()\n",
    "    \n",
    "    #Fit the algorithm on the data\n",
    "    alg.fit(dtrain, target, eval_metric='auc')\n",
    "        \n",
    "#     #Predict training set:\n",
    "    dtrain_predictions = alg.predict(dtrain)\n",
    "    dummies = pd.get_dummies(dtrain_predictions, prefix='gb_pred')\n",
    "    dummies['match_id'] = dtrain.index.values\n",
    "    dummies.to_csv('gb_prediction.csv', encoding='utf-8', index=False)\n",
    "#     dtrain_predprob = alg.predict_proba(dtrain)[:,1]\n",
    "        \n",
    "#     #Print model report:\n",
    "#     print \"\\nModel Report\"\n",
    "#     print \"Accuracy : %.4g\" % metrics.accuracy_score(target, dtrain_predictions)\n",
    "#     print \"AUC Score (Train): %f\" % metrics.roc_auc_score(target, dtrain_predprob) \n",
    "#     matplotlib.use('TkAgg')\n",
    "#     plt.switch_backend('TkAgg')\n",
    "    feat_imp = pd.Series(alg.booster().get_fscore()).sort_values(ascending=False)\n",
    "    print 'feature importance: '\n",
    "    print feat_imp\n",
    "#     feat_imp.plot(kind='bar', title='Feature Importances')\n",
    "#     plt.ylabel('Feature Importance Score')\n",
    "#     xgb.plot_importance(alg)\n",
    "#     xgb.to_graphviz(alg, num_trees=2)\n",
    "#     xgb.plot_tree(alg, num_trees=2)\n",
    "\n",
    "%matplotlib inline\n",
    "from matplotlib.pylab import rcParams\n",
    "rcParams['figure.figsize'] = 100, 50"
   ]
  },
  {
   "cell_type": "code",
   "execution_count": 3,
   "metadata": {
    "collapsed": false
   },
   "outputs": [
    {
     "name": "stdout",
     "output_type": "stream",
     "text": [
      "(12482, 140)\n"
     ]
    }
   ],
   "source": [
    "data = get_train_data('features.csv')\n",
    "data, target = get_lobby_games(data, 0)\n",
    "# lr_pred = pd.read_csv('lr_prediction.csv', index_col='match_id', header=0)\n",
    "# data = data.join(lr_pred)\n",
    "data = add_heroes_bags(data)\n",
    "# ss = StandardScaler()\n",
    "# X_train = ss.fit_transform(X=data, y=target)\n",
    "X_train = data\n",
    "print X_train.shape"
   ]
  },
  {
   "cell_type": "code",
   "execution_count": 105,
   "metadata": {
    "collapsed": false
   },
   "outputs": [
    {
     "name": "stdout",
     "output_type": "stream",
     "text": [
      "(12482, 140)\n"
     ]
    }
   ],
   "source": [
    "data = get_train_data('features.csv')\n",
    "data, target = get_lobby_games(data, 0)\n",
    "data = add_heroes_bags(data)\n",
    "X_train = data\n",
    "print X_train.shape"
   ]
  },
  {
   "cell_type": "code",
   "execution_count": 4,
   "metadata": {
    "collapsed": false
   },
   "outputs": [
    {
     "name": "stdout",
     "output_type": "stream",
     "text": [
      "cv_result: \n",
      "test-auc-mean     0.738016\n",
      "test-auc-std      0.004853\n",
      "train-auc-mean    0.758027\n",
      "train-auc-std     0.001741\n",
      "dtype: float64\n",
      "feature importance: \n",
      "gold                        55\n",
      "lh                          41\n",
      "hero_67                     30\n",
      "hero_57                     26\n",
      "hero_2                      24\n",
      "hero_102                    23\n",
      "hero_71                     23\n",
      "hero_26                     20\n",
      "hero_25                     20\n",
      "items                       20\n",
      "hero_22                     20\n",
      "start_time                  19\n",
      "hero_39                     19\n",
      "hero_52                     19\n",
      "dire_first_ward_time        19\n",
      "hero_13                     18\n",
      "first_blood_time            18\n",
      "radiant_bottle_time         18\n",
      "hero_110                    18\n",
      "hero_86                     17\n",
      "hero_3                      17\n",
      "xp                          17\n",
      "hero_42                     16\n",
      "hero_70                     16\n",
      "hero_7                      16\n",
      "hero_53                     15\n",
      "hero_11                     14\n",
      "dire_bottle_time            14\n",
      "hero_40                     13\n",
      "radiant_courier_time        13\n",
      "                            ..\n",
      "hero_36                      4\n",
      "hero_12                      4\n",
      "hero_90                      3\n",
      "hero_80                      3\n",
      "dire_flying_courier_time     3\n",
      "hero_77                      3\n",
      "hero_35                      3\n",
      "hero_59                      3\n",
      "hero_65                      3\n",
      "hero_94                      2\n",
      "hero_29                      2\n",
      "hero_54                      2\n",
      "radiant_tpscroll_count       2\n",
      "hero_83                      2\n",
      "hero_61                      2\n",
      "hero_10                      2\n",
      "hero_93                      2\n",
      "hero_38                      2\n",
      "hero_95                      2\n",
      "hero_63                      2\n",
      "hero_55                      1\n",
      "hero_15                      1\n",
      "kills                        1\n",
      "hero_91                      1\n",
      "hero_72                      1\n",
      "hero_74                      1\n",
      "hero_19                      1\n",
      "hero_8                       1\n",
      "hero_16                      1\n",
      "hero_50                      1\n",
      "dtype: int64\n"
     ]
    }
   ],
   "source": [
    "xgb1 = XGBClassifier(\n",
    " learning_rate = 0.1,\n",
    " n_estimators=1000,\n",
    " max_depth=1,\n",
    " min_child_weight=2,\n",
    " gamma=0,\n",
    " subsample=0.9,\n",
    " colsample_bytree=0.7,\n",
    " objective= 'binary:logistic',\n",
    " nthread=4,\n",
    " scale_pos_weight=1,\n",
    " seed=241,\n",
    "#  max_delta_step=1,\n",
    " reg_alpha=1e-06)\n",
    "modelfit(xgb1, X_train, target)"
   ]
  },
  {
   "cell_type": "code",
   "execution_count": 63,
   "metadata": {
    "collapsed": false
   },
   "outputs": [
    {
     "data": {
      "text/plain": [
       "([mean: 0.74561, std: 0.00483, params: {'max_depth': 1, 'min_child_weight': 1},\n",
       "  mean: 0.74588, std: 0.00472, params: {'max_depth': 1, 'min_child_weight': 2},\n",
       "  mean: 0.73986, std: 0.00597, params: {'max_depth': 2, 'min_child_weight': 1},\n",
       "  mean: 0.73934, std: 0.00539, params: {'max_depth': 2, 'min_child_weight': 2},\n",
       "  mean: 0.72937, std: 0.00667, params: {'max_depth': 3, 'min_child_weight': 1},\n",
       "  mean: 0.72948, std: 0.00500, params: {'max_depth': 3, 'min_child_weight': 2}],\n",
       " {'max_depth': 1, 'min_child_weight': 2},\n",
       " 0.74587663453230435)"
      ]
     },
     "execution_count": 63,
     "metadata": {},
     "output_type": "execute_result"
    }
   ],
   "source": [
    "param_test1 = {\n",
    " 'max_depth':range(1,4,1),\n",
    " 'min_child_weight':range(1,3,1)\n",
    "}\n",
    "gs1 = GridSearchCV(estimator = XGBClassifier(\n",
    "         learning_rate = 0.1,\n",
    "         n_estimators=1000,\n",
    "         gamma=0,\n",
    "         subsample=0.8,\n",
    "         colsample_bytree=0.8,\n",
    "         objective= 'binary:logistic',\n",
    "         nthread=4,\n",
    "         scale_pos_weight=1,\n",
    "         seed=241), param_grid = param_test1, scoring='roc_auc',n_jobs=4,iid=False, cv=5)\n",
    "gs1.fit(X_train,target)\n",
    "gs1.grid_scores_, gs1.best_params_, gs1.best_score_"
   ]
  },
  {
   "cell_type": "code",
   "execution_count": 67,
   "metadata": {
    "collapsed": false
   },
   "outputs": [
    {
     "data": {
      "text/plain": [
       "([mean: 0.74588, std: 0.00472, params: {'gamma': 0.0},\n",
       "  mean: 0.74588, std: 0.00472, params: {'gamma': 0.1},\n",
       "  mean: 0.74588, std: 0.00472, params: {'gamma': 0.2},\n",
       "  mean: 0.74588, std: 0.00472, params: {'gamma': 0.3},\n",
       "  mean: 0.74588, std: 0.00472, params: {'gamma': 0.4}],\n",
       " {'gamma': 0.0},\n",
       " 0.74587663453230435)"
      ]
     },
     "execution_count": 67,
     "metadata": {},
     "output_type": "execute_result"
    }
   ],
   "source": [
    "param_test3 = {\n",
    " 'gamma':[i/10.0 for i in range(0,5)]\n",
    "}\n",
    "gs2 = GridSearchCV(estimator = XGBClassifier(\n",
    "         learning_rate = 0.1,\n",
    "         n_estimators=1000,\n",
    "         max_depth=1,\n",
    "         min_child_weight=2,\n",
    "         subsample=0.8,\n",
    "         colsample_bytree=0.8,\n",
    "         objective= 'binary:logistic',\n",
    "         nthread=4,\n",
    "         scale_pos_weight=1,\n",
    "         seed=241), param_grid = param_test3, scoring='roc_auc',n_jobs=4,iid=False, cv=5)\n",
    "gs2.fit(X_train,target)\n",
    "gs2.grid_scores_, gs2.best_params_, gs2.best_score_"
   ]
  },
  {
   "cell_type": "code",
   "execution_count": 69,
   "metadata": {
    "collapsed": false
   },
   "outputs": [
    {
     "data": {
      "text/plain": [
       "([mean: 0.74511, std: 0.00532, params: {'subsample': 0.6, 'colsample_bytree': 0.6},\n",
       "  mean: 0.74556, std: 0.00597, params: {'subsample': 0.7, 'colsample_bytree': 0.6},\n",
       "  mean: 0.74601, std: 0.00533, params: {'subsample': 0.8, 'colsample_bytree': 0.6},\n",
       "  mean: 0.74602, std: 0.00595, params: {'subsample': 0.9, 'colsample_bytree': 0.6},\n",
       "  mean: 0.74504, std: 0.00553, params: {'subsample': 0.6, 'colsample_bytree': 0.7},\n",
       "  mean: 0.74600, std: 0.00594, params: {'subsample': 0.7, 'colsample_bytree': 0.7},\n",
       "  mean: 0.74569, std: 0.00509, params: {'subsample': 0.8, 'colsample_bytree': 0.7},\n",
       "  mean: 0.74613, std: 0.00576, params: {'subsample': 0.9, 'colsample_bytree': 0.7},\n",
       "  mean: 0.74528, std: 0.00539, params: {'subsample': 0.6, 'colsample_bytree': 0.8},\n",
       "  mean: 0.74591, std: 0.00612, params: {'subsample': 0.7, 'colsample_bytree': 0.8},\n",
       "  mean: 0.74588, std: 0.00472, params: {'subsample': 0.8, 'colsample_bytree': 0.8},\n",
       "  mean: 0.74583, std: 0.00644, params: {'subsample': 0.9, 'colsample_bytree': 0.8},\n",
       "  mean: 0.74570, std: 0.00542, params: {'subsample': 0.6, 'colsample_bytree': 0.9},\n",
       "  mean: 0.74607, std: 0.00558, params: {'subsample': 0.7, 'colsample_bytree': 0.9},\n",
       "  mean: 0.74568, std: 0.00517, params: {'subsample': 0.8, 'colsample_bytree': 0.9},\n",
       "  mean: 0.74551, std: 0.00571, params: {'subsample': 0.9, 'colsample_bytree': 0.9}],\n",
       " {'gamma': 0.0},\n",
       " 0.74587663453230435)"
      ]
     },
     "execution_count": 69,
     "metadata": {},
     "output_type": "execute_result"
    }
   ],
   "source": [
    "param_test4 = {\n",
    " 'subsample':[i/10.0 for i in range(6,10)],\n",
    " 'colsample_bytree':[i/10.0 for i in range(6,10)]\n",
    "}\n",
    "gs4 = GridSearchCV(estimator = XGBClassifier(\n",
    "         learning_rate = 0.1,\n",
    "         n_estimators=1000,\n",
    "         gamma=0,\n",
    "         subsample=0.8,\n",
    "         max_depth=1,\n",
    "         min_child_weight=2,\n",
    "         colsample_bytree=0.8,\n",
    "         objective= 'binary:logistic',\n",
    "         nthread=4,\n",
    "         scale_pos_weight=1,\n",
    "         seed=241), param_grid = param_test4, scoring='roc_auc',n_jobs=4,iid=False, cv=5)\n",
    "gs4.fit(X_train,target)\n",
    "gs4.grid_scores_, gs4.best_params_, gs4.best_score_"
   ]
  },
  {
   "cell_type": "code",
   "execution_count": 8,
   "metadata": {
    "collapsed": false
   },
   "outputs": [
    {
     "data": {
      "text/plain": [
       "([mean: 0.74613, std: 0.00576, params: {'reg_alpha': 1e-05},\n",
       "  mean: 0.74602, std: 0.00589, params: {'reg_alpha': 0.01},\n",
       "  mean: 0.74604, std: 0.00583, params: {'reg_alpha': 0.1},\n",
       "  mean: 0.74563, std: 0.00586, params: {'reg_alpha': 1},\n",
       "  mean: 0.71021, std: 0.00981, params: {'reg_alpha': 100}],\n",
       " {'reg_alpha': 1e-05},\n",
       " 0.7461339648194969)"
      ]
     },
     "execution_count": 8,
     "metadata": {},
     "output_type": "execute_result"
    }
   ],
   "source": [
    "param_test6 = {\n",
    " 'reg_alpha':[1e-5, 1e-2, 0.1, 1, 100]\n",
    "}\n",
    "gs6 = GridSearchCV(estimator = XGBClassifier(\n",
    "         learning_rate = 0.1,\n",
    "         n_estimators=1000,\n",
    "         gamma=0,\n",
    "         max_depth=1,\n",
    "         min_child_weight=2,\n",
    "         subsample=0.9,\n",
    "         colsample_bytree=0.7,\n",
    "         objective= 'binary:logistic',\n",
    "         nthread=4,\n",
    "         scale_pos_weight=1,\n",
    "         seed=241), param_grid = param_test6, scoring='roc_auc',n_jobs=4,iid=False, cv=5)\n",
    "gs6.fit(X_train,target)\n",
    "gs6.grid_scores_, gs6.best_params_, gs6.best_score_"
   ]
  },
  {
   "cell_type": "code",
   "execution_count": 10,
   "metadata": {
    "collapsed": false
   },
   "outputs": [
    {
     "data": {
      "text/plain": [
       "([mean: 0.74613, std: 0.00576, params: {'reg_alpha': 1e-06},\n",
       "  mean: 0.74613, std: 0.00576, params: {'reg_alpha': 5e-07},\n",
       "  mean: 0.74613, std: 0.00576, params: {'reg_alpha': 1e-07},\n",
       "  mean: 0.74613, std: 0.00576, params: {'reg_alpha': 5e-08},\n",
       "  mean: 0.74613, std: 0.00576, params: {'reg_alpha': 1e-08}],\n",
       " {'reg_alpha': 1e-06},\n",
       " 0.7461341577575773)"
      ]
     },
     "execution_count": 10,
     "metadata": {},
     "output_type": "execute_result"
    }
   ],
   "source": [
    "param_test7 = {\n",
    " 'reg_alpha':[0.000001, 0.0000005, 0.0000001, 0.00000005, 0.00000001]\n",
    "}\n",
    "gs7 = GridSearchCV(estimator = XGBClassifier(\n",
    "         learning_rate = 0.1,\n",
    "         n_estimators=1000,\n",
    "         gamma=0,\n",
    "         max_depth=1,\n",
    "         min_child_weight=2,\n",
    "         subsample=0.9,\n",
    "         colsample_bytree=0.7,\n",
    "         objective= 'binary:logistic',\n",
    "         nthread=4,\n",
    "         scale_pos_weight=1,\n",
    "         seed=241), param_grid = param_test7, scoring='roc_auc',n_jobs=4,iid=False, cv=5)\n",
    "gs7.fit(X_train,target)\n",
    "gs7.grid_scores_, gs7.best_params_, gs7.best_score_"
   ]
  },
  {
   "cell_type": "code",
   "execution_count": null,
   "metadata": {
    "collapsed": true
   },
   "outputs": [],
   "source": []
  }
 ],
 "metadata": {
  "kernelspec": {
   "display_name": "Python 2",
   "language": "python",
   "name": "python2"
  },
  "language_info": {
   "codemirror_mode": {
    "name": "ipython",
    "version": 2
   },
   "file_extension": ".py",
   "mimetype": "text/x-python",
   "name": "python",
   "nbconvert_exporter": "python",
   "pygments_lexer": "ipython2",
   "version": "2.7.11"
  }
 },
 "nbformat": 4,
 "nbformat_minor": 0
}
