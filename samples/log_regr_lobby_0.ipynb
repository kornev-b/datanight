{
 "cells": [
  {
   "cell_type": "code",
   "execution_count": 49,
   "metadata": {
    "collapsed": false
   },
   "outputs": [],
   "source": [
    "from sklearn.ensemble import GradientBoostingClassifier\n",
    "import pandas as pd\n",
    "from sklearn.preprocessing import scale\n",
    "from sklearn.preprocessing import StandardScaler\n",
    "import numpy as np\n",
    "import sklearn.cross_validation as cv\n",
    "import time\n",
    "import datetime\n",
    "from sklearn.linear_model import LogisticRegression\n",
    "from sklearn.grid_search import GridSearchCV\n",
    "from sklearn.feature_selection import VarianceThreshold\n",
    "from sklearn.ensemble import ExtraTreesClassifier\n",
    "from sklearn.feature_selection import SelectFromModel\n",
    "from sklearn.feature_selection import SelectKBest\n",
    "from sklearn.feature_selection import chi2\n",
    "from sklearn.svm import LinearSVC\n",
    "from sklearn.preprocessing import Imputer\n",
    "from sklearn.preprocessing import OneHotEncoder\n",
    "from sklearn.cross_validation import train_test_split\n",
    "from sklearn.metrics import roc_auc_score\n",
    "from sklearn.metrics import accuracy_score\n",
    "import matplotlib.pylab as plt\n",
    "from matplotlib.pylab import rcParams\n",
    "import operator\n",
    "import math\n",
    "import itertools\n",
    "from sklearn.cross_validation import train_test_split\n",
    "\n",
    "def add_heroes_bags(data):\n",
    "    hero_cols = data.columns[data.columns.str.contains('hero')]\n",
    "    X_pick = np.zeros((data.shape[0], 112))\n",
    "    for i, match_id in enumerate(data.index):\n",
    "        for p in xrange(5):\n",
    "            X_pick[i, data.ix[match_id, 'r%d_hero' % (p+1)]-1] = 1\n",
    "            X_pick[i, data.ix[match_id, 'd%d_hero' % (p+1)]-1] = -1\n",
    "    data = data.drop(hero_cols,axis=1)\n",
    "    return np.hstack((data.values, X_pick))\n",
    "\n",
    "def fill_nans(data):\n",
    "    data['first_blood_team'].replace(0,-1)\n",
    "    data['first_blood_team'] = data['first_blood_team'].fillna(0)\n",
    "    nullcols = list(data.columns[data.isnull().any(axis=0)].values)\n",
    "    for nil in nullcols:\n",
    "        data[nil] = data[nil].fillna(data[nil].median())\n",
    "    return data\n",
    "\n",
    "def replace_col_withsum(data, name):\n",
    "    cols = data.columns[data.columns.str.contains(name)]\n",
    "    data[name] = data[cols[cols.str.contains('^r')]].sum(axis=1) - data[cols[cols.str.contains('^d')]].sum(axis=1)\n",
    "    data = data.drop(cols,axis=1)\n",
    "    return data\n",
    "\n",
    "def iqr_clean(data, col):\n",
    "    q75, q25 = np.percentile(data[col], [75 ,25])\n",
    "    iqr = q75 - q25\n",
    "    d1 = q25 - 1.5 * iqr\n",
    "    d2 = q75 + 1.5 * iqr\n",
    "    data = data[data[col] > d1]\n",
    "    data = data[data[col] < d2]\n",
    "    return data\n",
    "    \n",
    "def get_test_data(filename):\n",
    "    data = pd.read_csv(filename, index_col=None)\n",
    "    data = fill_nans(data)\n",
    "    data = replace_col_withsum(data,'level')\n",
    "    data = replace_col_withsum(data,'gold')\n",
    "    data = replace_col_withsum(data,'xp')\n",
    "    data = replace_col_withsum(data,'kills')\n",
    "    data = replace_col_withsum(data,'lh')\n",
    "    data = replace_col_withsum(data,'items')\n",
    "    data = replace_col_withsum(data,'deaths')\n",
    "    return data\n",
    "\n",
    "def get_train_data(filename):\n",
    "    data = pd.read_csv(filename, index_col='match_id')\n",
    "    data = iqr_clean(data,'duration')\n",
    "    data['radiant_win'] = data['radiant_win'].replace(0, -1)\n",
    "    data = data.drop(['duration',\n",
    "                              'tower_status_radiant',\n",
    "                              'tower_status_dire',\n",
    "                              'barracks_status_radiant',\n",
    "                              'barracks_status_dire'],\n",
    "                     axis=1)\n",
    "\n",
    "    data = fill_nans(data)\n",
    "    data = replace_col_withsum(data,'level')\n",
    "    data = replace_col_withsum(data,'gold')\n",
    "    data = replace_col_withsum(data,'xp')\n",
    "    data = replace_col_withsum(data,'kills')\n",
    "    data = replace_col_withsum(data,'lh')\n",
    "    data = replace_col_withsum(data,'items')\n",
    "    data = replace_col_withsum(data,'deaths')  \n",
    "    return data\n",
    "\n",
    "def get_lobby_games(data, lobby):\n",
    "    data = data[data['lobby_type'] == lobby]\n",
    "    del data['lobby_type']\n",
    "    target = data['radiant_win']\n",
    "    del data['radiant_win']\n",
    "    return data, target\n",
    "\n",
    "def get_lobby_games_no_target_split(data, lobby):\n",
    "    data = data[data['lobby_type'] == lobby]\n",
    "    del data['lobby_type']\n",
    "    return data"
   ]
  },
  {
   "cell_type": "code",
   "execution_count": 10,
   "metadata": {
    "collapsed": false
   },
   "outputs": [
    {
     "name": "stdout",
     "output_type": "stream",
     "text": [
      "(12482L, 140L)\n"
     ]
    }
   ],
   "source": [
    "data = get_train_data('features.csv')\n",
    "data, target = get_lobby_games(data, 0)\n",
    "data = add_heroes_bags(data) \n",
    "ss = StandardScaler()\n",
    "X_train = ss.fit_transform(X=data, y=target)\n",
    "print X_train.shape"
   ]
  },
  {
   "cell_type": "code",
   "execution_count": 11,
   "metadata": {
    "collapsed": false
   },
   "outputs": [
    {
     "name": "stdout",
     "output_type": "stream",
     "text": [
      "241 random state:\n",
      "0.757028688332\n",
      "random state 5 folds:\n",
      "0.756648988077\n"
     ]
    }
   ],
   "source": [
    "kf = cv.KFold(X_train.shape[0], n_folds=5, shuffle=True, random_state=241)\n",
    "lr = LogisticRegression(penalty='l2', random_state=241, n_jobs=-1, C=0.005)\n",
    "cs_result = cv.cross_val_score(lr, X=X_train, y=target, cv=kf, scoring='roc_auc', n_jobs=-1)\n",
    "print '241 random state:'\n",
    "print cs_result.mean()\n",
    "print 'random state 5 folds:'\n",
    "cs_results = []\n",
    "randoms = np.random.randint(1, 255, 5)\n",
    "for i in randoms:\n",
    "    kf = cv.KFold(X_train.shape[0], n_folds=5, shuffle=True, random_state=i)\n",
    "    lr = LogisticRegression(penalty='l2', random_state=i, n_jobs=-1, C=0.005)\n",
    "    cs_result = cv.cross_val_score(lr, X=X_train, y=target, cv=kf, scoring='roc_auc', n_jobs=-1)\n",
    "    cs_results.append(cs_result)\n",
    "print np.mean(cs_results)"
   ]
  },
  {
   "cell_type": "code",
   "execution_count": null,
   "metadata": {
    "collapsed": true
   },
   "outputs": [],
   "source": [
    "lr = LogisticRegression(penalty='l2', random_state=241, n_jobs=-1, C=0.005)\n",
    "test = get_test_data('features_test.csv')\n",
    "test = test[test['lobby_type'] == 0]\n",
    "del test['lobby_type']\n",
    "match_ids = test['match_id']\n",
    "del test['match_id']\n",
    "test = add_heroes_bags(test)\n",
    "print test.shape\n",
    "test = ss.transform(X=test)\n",
    "lr.fit(X=X_train, y=target)\n",
    "predicted = lr.predict_proba(test)\n",
    "d = {'match_id': match_ids, 'radiant_win': predicted[:,1]}\n",
    "df_result = pd.DataFrame(data=d, index=None)\n",
    "print df_result[:10]\n",
    "df_result.to_csv('submission', sep=',', encoding='utf-8', index=False)"
   ]
  },
  {
   "cell_type": "code",
   "execution_count": 3,
   "metadata": {
    "collapsed": false
   },
   "outputs": [
    {
     "name": "stdout",
     "output_type": "stream",
     "text": [
      "(96111L, 1308L)\n"
     ]
    }
   ],
   "source": [
    "train, target = get_train_data_target('features_team_items.csv')\n",
    "print train.shape\n",
    "ss = StandardScaler()\n",
    "X_train = ss.fit_transform(X=train, y=target)"
   ]
  },
  {
   "cell_type": "code",
   "execution_count": 23,
   "metadata": {
    "collapsed": false
   },
   "outputs": [
    {
     "name": "stdout",
     "output_type": "stream",
     "text": [
      "1\n",
      "2\n",
      "3\n",
      "4\n",
      "5\n"
     ]
    }
   ],
   "source": [
    "for i in xrange(1, 6):\n",
    "    print i\n",
    "    lr = LogisticRegression(penalty='l2', random_state=i, n_jobs=-1)\n",
    "    # params = {'C': [0.0001, 0.0005, 0.001, 0.005, 0.01, 0.05, 0.1, 0.5]}\n",
    "    # params = {'C': [0.001, 0.002, 0.003, 0.004, 0.005, 0.006, 0.007, 0.008, 0.009]}\n",
    "    # params = {'C': [0.001, 0.0052, 0.0053, 0.0054, 0.0055, 0.0056, 0.0057, 0.0058, 0.0059]}\n",
    "    # params = {'C': [0.00521, 0.00522, 0.00523, 0.00524, 0.00525, 0.00526, 0.00527, 0.00528, 0.00529]}\n",
    "    # params = {'C': [0.005241, 0.005242, 0.005243, 0.005244, 0.005245, 0.005246, 0.005247, 0.005248, 0.005249]}\n",
    "    gs = GridSearchCV(estimator=lr, param_grid=params, scoring='roc_auc', n_jobs=-1,iid=False, cv=5)\n",
    "    gs.fit(X_train, target)\n",
    "    gs.grid_scores_, gs.best_params_, gs.best_score_"
   ]
  },
  {
   "cell_type": "code",
   "execution_count": 37,
   "metadata": {
    "collapsed": false
   },
   "outputs": [
    {
     "name": "stdout",
     "output_type": "stream",
     "text": [
      "175\n",
      "[ 0.73758645  0.75912912  0.77769864  0.74363151  0.76923072]\n",
      "0.757455289563\n",
      "1\n",
      "[ 0.7559426   0.75718461  0.74806617  0.75143     0.76403421]\n",
      "0.755331516061\n",
      "184\n",
      "[ 0.74992538  0.75690029  0.76959159  0.75907689  0.74365474]\n",
      "0.755829778112\n",
      "106\n",
      "[ 0.75915239  0.75634467  0.75933077  0.75315566  0.75569874]\n",
      "0.756736447943\n",
      "169\n",
      "[ 0.7635336   0.748579    0.75987087  0.75913927  0.75642317]\n",
      "0.757509182819\n",
      "175\n",
      "[ 0.73757037  0.75913169  0.77769478  0.74361413  0.76925001]\n",
      "0.7574521975\n",
      "1\n",
      "[ 0.75595418  0.75717305  0.74809635  0.75146541  0.7640239 ]\n",
      "0.755342579078\n",
      "184\n",
      "[ 0.75002509  0.75692404  0.76961344  0.75908332  0.74365474]\n",
      "0.755860125546\n",
      "106\n",
      "[ 0.7591073   0.75641098  0.75938667  0.75318332  0.75568846]\n",
      "0.756755345029\n",
      "169\n",
      "[ 0.76357096  0.748579    0.7598227   0.75919532  0.75641352]\n",
      "0.757516299909\n",
      "0.756585309412\n",
      "210\n",
      "[ 0.75940746  0.75293619  0.75579599  0.7499992   0.76517771]\n",
      "0.756663309948\n",
      "218\n",
      "[ 0.75677058  0.77247477  0.75344868  0.75296129  0.75115405]\n",
      "0.757361874823\n",
      "8\n",
      "[ 0.76078888  0.74528983  0.75949095  0.75789984  0.75149942]\n",
      "0.754993783567\n",
      "25\n",
      "[ 0.74759066  0.76133803  0.74527268  0.77058816  0.76236516]\n",
      "0.757430938799\n",
      "53\n",
      "[ 0.77046196  0.76561584  0.74994409  0.75319427  0.74520719]\n",
      "0.756884670848\n",
      "210\n",
      "[ 0.75938372  0.75291623  0.7558333   0.74995351  0.76517642]\n",
      "0.756652639319\n",
      "218\n",
      "[ 0.75679565  0.77251262  0.75346352  0.75286937  0.75116628]\n",
      "0.757361486915\n",
      "8\n",
      "[ 0.76077535  0.74533354  0.75948645  0.75790435  0.75151998]\n",
      "0.755003930839\n",
      "25\n",
      "[ 0.74758874  0.76135345  0.74524567  0.77058687  0.76237931]\n",
      "0.757430808011\n",
      "53\n",
      "[ 0.77044526  0.76563383  0.74993381  0.75323354  0.74519754]\n",
      "0.756888794668\n",
      "0.75666753195\n",
      "159\n",
      "[ 0.76023045  0.75676759  0.7628405   0.74759481  0.75463679]\n",
      "0.756414028044\n",
      "87\n",
      "[ 0.7473728   0.75665814  0.7554405   0.76615435  0.75949088]\n",
      "0.757023332744\n",
      "179\n",
      "[ 0.76391232  0.74118285  0.75515036  0.75977489  0.75407893]\n",
      "0.754819870856\n",
      "215\n",
      "[ 0.75638857  0.74817463  0.75873733  0.76088253  0.76221441]\n",
      "0.757279494706\n",
      "71\n",
      "[ 0.75180399  0.75869909  0.76403155  0.7464994   0.75495696]\n",
      "0.755198198751\n",
      "159\n",
      "[ 0.76023944  0.75676662  0.76283665  0.74760318  0.75459499]\n",
      "0.756408175678\n",
      "87\n",
      "[ 0.74738827  0.75667612  0.75547392  0.76612863  0.75943559]\n",
      "0.757020505985\n",
      "179\n",
      "[ 0.76392196  0.74123486  0.75512331  0.75976139  0.75411428]\n",
      "0.754831160396\n",
      "215\n",
      "[ 0.75641371  0.74816468  0.75872574  0.7608896   0.76226966]\n",
      "0.757292677174\n",
      "71\n",
      "[ 0.7518509   0.75868235  0.76409073  0.74648591  0.75497496]\n",
      "0.755216973591\n",
      "0.756153898565\n",
      "245\n",
      "[ 0.75322445  0.7595464   0.76551789  0.75247052  0.75029521]\n",
      "0.756210893814\n",
      "244\n",
      "[ 0.75617116  0.76881265  0.75489529  0.7453982   0.75819031]\n",
      "0.756693522017\n",
      "24\n",
      "[ 0.7475185   0.76780294  0.75299458  0.76156346  0.7516661 ]\n",
      "0.756309115223\n",
      "214\n",
      "[ 0.73169023  0.77183361  0.7625883   0.75259672  0.76282223]\n",
      "0.756306217039\n",
      "99\n",
      "[ 0.76577213  0.75391135  0.7547056   0.75124692  0.76079193]\n",
      "0.757285585501\n",
      "245\n",
      "[ 0.75328608  0.75955603  0.76551853  0.75247116  0.75034194]\n",
      "0.756234749711\n",
      "244\n",
      "[ 0.75618339  0.76881008  0.75485924  0.74543804  0.75820703]\n",
      "0.756699552837\n",
      "24\n",
      "[ 0.74753846  0.76780616  0.75303634  0.76158917  0.75166546]\n",
      "0.756327116676\n",
      "214\n",
      "[ 0.73171465  0.77177834  0.76254847  0.75265146  0.76283059]\n",
      "0.756304702469\n",
      "99\n",
      "[ 0.76580299  0.7539499   0.75470495  0.75122312  0.76079257]\n",
      "0.757294705929\n",
      "0.756572165524\n",
      "162\n",
      "[ 0.76232486  0.74594179  0.75153788  0.76302851  0.75839911]\n",
      "0.756246429219\n",
      "123\n",
      "[ 0.76274692  0.74710993  0.76419354  0.75515715  0.75417002]\n",
      "0.756675513455\n",
      "233\n",
      "[ 0.75303772  0.75050532  0.75640784  0.75092381  0.77110893]\n",
      "0.75639672129\n",
      "76\n",
      "[ 0.75000738  0.76022648  0.76335586  0.7485495   0.7616807 ]\n",
      "0.756763983939\n",
      "17\n",
      "[ 0.77402044  0.7430705   0.74320329  0.75978223  0.75924743]\n",
      "0.755864776918\n",
      "162\n",
      "[ 0.76234477  0.7459734   0.75153595  0.76300398  0.75842543]\n",
      "0.756256707402\n",
      "123\n",
      "[ 0.76279001  0.74710157  0.76420704  0.75521629  0.75417131]\n",
      "0.756697243178\n",
      "233\n",
      "[ 0.75307432  0.75049631  0.7564348   0.75088962  0.77114565]\n",
      "0.756408139491\n",
      "76\n",
      "[ 0.74996055  0.76022712  0.76338359  0.74851344  0.76166528]\n",
      "0.756749994076\n",
      "17\n",
      "[ 0.77402817  0.74303772  0.7431872   0.75986766  0.75924421]\n",
      "0.75587299257\n",
      "0.756397015343\n",
      "0.75646737904\n",
      "0.756475184159\n"
     ]
    }
   ],
   "source": [
    "cs_res_hp = []\n",
    "cs_res_np = []\n",
    "for j in xrange(5):\n",
    "    cs_results = []\n",
    "    randoms = np.random.randint(1, 255, 5)\n",
    "    for i in randoms:\n",
    "        print i\n",
    "        kf = cv.KFold(X_train.shape[0], n_folds=5, shuffle=True, random_state=i)\n",
    "        lr = LogisticRegression(penalty='l2', random_state=i, n_jobs=-1, C=0.005247)\n",
    "        cs_result = cv.cross_val_score(lr, X=X_train, y=target, cv=kf, scoring='roc_auc', n_jobs=-1)\n",
    "        print cs_result\n",
    "        print cs_result.mean()\n",
    "        cs_results.append(cs_result.mean())\n",
    "    cs_res_hp.append(np.mean(cs_results))\n",
    "\n",
    "    cs_results = []\n",
    "    for i in randoms:\n",
    "        print i\n",
    "        kf = cv.KFold(X_train.shape[0], n_folds=5, shuffle=True, random_state=i)\n",
    "        lr = LogisticRegression(penalty='l2', random_state=i, n_jobs=-1, C=0.005)\n",
    "        cs_result = cv.cross_val_score(lr, X=X_train, y=target, cv=kf, scoring='roc_auc', n_jobs=-1)\n",
    "        print cs_result\n",
    "        print cs_result.mean()\n",
    "        cs_results.append(cs_result.mean())\n",
    "    print np.mean(cs_results)\n",
    "    cs_res_np.append(np.mean(cs_results))\n",
    "print np.mean(cs_res_hp)\n",
    "print np.mean(cs_res_np)"
   ]
  },
  {
   "cell_type": "code",
   "execution_count": 16,
   "metadata": {
    "collapsed": false
   },
   "outputs": [
    {
     "name": "stdout",
     "output_type": "stream",
     "text": [
      "1    9857\n",
      "7    5029\n",
      "0    2291\n",
      "Name: lobby_type, dtype: int64\n",
      "(17177, 102)\n"
     ]
    }
   ],
   "source": [
    "df_test = pd.read_csv('features_test.csv', index_col='match_id')\n",
    "print df_test['lobby_type'].value_counts()\n",
    "print df_test.shape"
   ]
  },
  {
   "cell_type": "code",
   "execution_count": null,
   "metadata": {
    "collapsed": true
   },
   "outputs": [],
   "source": [
    "df_ab = pd.read_csv('features_test_team_items_abilities.csv', index_col=None)\n",
    "df_items = pd.read_csv('features_test_team_items.csv', index_col=None)\n",
    "ab = df_ab[df_ab.columns[df_ab.columns.str.contains('ability')]]\n",
    "print ab.shape\n",
    "print df_items.shape\n",
    "joined = df_items.join(ab)\n",
    "print joined.shape\n",
    "joined.to_csv('features_test_team_items_abilities.csv', sep=',', encoding='utf-8', index=False)\n",
    "# ab = df_ab.columns[[df_ab.columns.str.contains('ability')]]\n",
    "# print ab.shape"
   ]
  },
  {
   "cell_type": "markdown",
   "metadata": {},
   "source": [
    "### Подготовка данных для NEAT"
   ]
  },
  {
   "cell_type": "code",
   "execution_count": 54,
   "metadata": {
    "collapsed": false
   },
   "outputs": [
    {
     "name": "stdout",
     "output_type": "stream",
     "text": [
      "(12482L, 140L)\n"
     ]
    }
   ],
   "source": [
    "data = get_train_data('features.csv')\n",
    "data, target = get_lobby_games(data, 0)\n",
    "data = add_heroes_bags(data) \n",
    "ss = StandardScaler()\n",
    "X_train = ss.fit_transform(X=data, y=target)\n",
    "print X_train.shape"
   ]
  },
  {
   "cell_type": "code",
   "execution_count": 55,
   "metadata": {
    "collapsed": false
   },
   "outputs": [
    {
     "ename": "ValueError",
     "evalue": "all the input arrays must have same number of dimensions",
     "output_type": "error",
     "traceback": [
      "\u001b[1;31m---------------------------------------------------------------------------\u001b[0m",
      "\u001b[1;31mValueError\u001b[0m                                Traceback (most recent call last)",
      "\u001b[1;32m<ipython-input-55-3e740b080499>\u001b[0m in \u001b[0;36m<module>\u001b[1;34m()\u001b[0m\n\u001b[0;32m      1\u001b[0m \u001b[0mX_train\u001b[0m\u001b[1;33m,\u001b[0m \u001b[0mX_test\u001b[0m\u001b[1;33m,\u001b[0m \u001b[0my_train\u001b[0m\u001b[1;33m,\u001b[0m \u001b[0my_test\u001b[0m \u001b[1;33m=\u001b[0m \u001b[0mtrain_test_split\u001b[0m\u001b[1;33m(\u001b[0m\u001b[0mX_train\u001b[0m\u001b[1;33m,\u001b[0m \u001b[0mtarget\u001b[0m\u001b[1;33m,\u001b[0m \u001b[0mtest_size\u001b[0m\u001b[1;33m=\u001b[0m\u001b[1;36m0.2\u001b[0m\u001b[1;33m,\u001b[0m \u001b[0mrandom_state\u001b[0m\u001b[1;33m=\u001b[0m\u001b[1;36m241\u001b[0m\u001b[1;33m)\u001b[0m\u001b[1;33m\u001b[0m\u001b[0m\n\u001b[1;32m----> 2\u001b[1;33m \u001b[0mX_train\u001b[0m \u001b[1;33m=\u001b[0m \u001b[0mnp\u001b[0m\u001b[1;33m.\u001b[0m\u001b[0mconcatenate\u001b[0m\u001b[1;33m(\u001b[0m\u001b[1;33m(\u001b[0m\u001b[0mX_train\u001b[0m\u001b[1;33m,\u001b[0m\u001b[0my_train\u001b[0m\u001b[1;33m)\u001b[0m\u001b[1;33m)\u001b[0m\u001b[1;33m\u001b[0m\u001b[0m\n\u001b[0m\u001b[0;32m      3\u001b[0m \u001b[0mX_test\u001b[0m \u001b[1;33m=\u001b[0m \u001b[0mnp\u001b[0m\u001b[1;33m.\u001b[0m\u001b[0mconcatenate\u001b[0m\u001b[1;33m(\u001b[0m\u001b[1;33m(\u001b[0m\u001b[0mX_test\u001b[0m\u001b[1;33m,\u001b[0m\u001b[0my_test\u001b[0m\u001b[1;33m)\u001b[0m\u001b[1;33m)\u001b[0m\u001b[1;33m\u001b[0m\u001b[0m\n\u001b[0;32m      4\u001b[0m \u001b[0mdf_train\u001b[0m \u001b[1;33m=\u001b[0m \u001b[0mpd\u001b[0m\u001b[1;33m.\u001b[0m\u001b[0mDataFrame\u001b[0m\u001b[1;33m.\u001b[0m\u001b[0mfrom_records\u001b[0m\u001b[1;33m(\u001b[0m\u001b[0mdata\u001b[0m\u001b[1;33m=\u001b[0m\u001b[0mX_train\u001b[0m\u001b[1;33m,\u001b[0m \u001b[0mcolumns\u001b[0m\u001b[1;33m=\u001b[0m\u001b[0mNone\u001b[0m\u001b[1;33m)\u001b[0m\u001b[1;33m\u001b[0m\u001b[0m\n\u001b[0;32m      5\u001b[0m \u001b[1;31m# df_train = df_train.applymap(lambda x: '%.4f' % x)\u001b[0m\u001b[1;33m\u001b[0m\u001b[1;33m\u001b[0m\u001b[0m\n",
      "\u001b[1;31mValueError\u001b[0m: all the input arrays must have same number of dimensions"
     ]
    }
   ],
   "source": [
    "X_train, X_test, y_train, y_test = train_test_split(X_train, target, test_size=0.2, random_state=241)\n",
    "X_train = np.concatenate((X_train,y_train))\n",
    "X_test = np.concatenate((X_test,y_test))\n",
    "df_train = pd.DataFrame.from_records(data=X_train, columns=None)\n",
    "# df_train = df_train.applymap(lambda x: '%.4f' % x)\n",
    "# df_target = pd.DataFrame.from_records(data=y_train, columns=None)\n",
    "# df_train['radiant_win'] = y_train\n",
    "# print df_train['radiant_win']\n",
    "print df_train.shape\n",
    "df_train.to_csv('clean_dota2_train_lobby0.csv', sep=',', encoding='utf-8', index=False)\n",
    "\n",
    "df_test = pd.DataFrame.from_records(data=X_test, columns=None)\n",
    "# df_test = df_test.applymap(lambda x: '%.4f' % x)\n",
    "# df_test['radiant_win'] = y_test\n",
    "print df_test.shape\n",
    "df_test.to_csv('clean_dota2_test_lobby0.csv', sep=',', encoding='utf-8', index=False)"
   ]
  },
  {
   "cell_type": "code",
   "execution_count": 52,
   "metadata": {
    "collapsed": false
   },
   "outputs": [
    {
     "name": "stdout",
     "output_type": "stream",
     "text": [
      "1.0\n",
      "1.0\n",
      "1.0\n",
      "1.0\n"
     ]
    }
   ],
   "source": [
    "lr = LogisticRegression(penalty='l2', random_state=241, n_jobs=-1, C=0.005)\n",
    "lr.fit(X_train, y_train)\n",
    "# predicted = lr.predict_proba(X_train)\n",
    "# df_pred = pd.DataFrame.from_records(data=predicted, columns=None)\n",
    "# df_pred.to_csv('predictions.csv', sep=',', encoding='utf-8', index=False)\n",
    "print roc_auc_score(y_train, lr.predict_proba(X_train)[:,1])\n",
    "print roc_auc_score(y_test, lr.predict_proba(X_test)[:,1])\n",
    "print accuracy_score(y_train, lr.predict(X_train))\n",
    "print accuracy_score(y_test, lr.predict(X_test))\n",
    "# print [\"{0:0.10f}\".format(i) for i in lr.coef_[0]]"
   ]
  },
  {
   "cell_type": "code",
   "execution_count": 41,
   "metadata": {
    "collapsed": false
   },
   "outputs": [
    {
     "name": "stdout",
     "output_type": "stream",
     "text": [
      "0.999951156687\n"
     ]
    },
    {
     "ename": "ValueError",
     "evalue": "Found arrays with inconsistent numbers of samples: [2497 9985]",
     "output_type": "error",
     "traceback": [
      "\u001b[1;31m---------------------------------------------------------------------------\u001b[0m",
      "\u001b[1;31mValueError\u001b[0m                                Traceback (most recent call last)",
      "\u001b[1;32m<ipython-input-41-3e3617dfb9e3>\u001b[0m in \u001b[0;36m<module>\u001b[1;34m()\u001b[0m\n\u001b[0;32m      5\u001b[0m \u001b[0mlr\u001b[0m\u001b[1;33m.\u001b[0m\u001b[0mfit\u001b[0m\u001b[1;33m(\u001b[0m\u001b[0mX_train\u001b[0m\u001b[1;33m,\u001b[0m \u001b[0my_train\u001b[0m\u001b[1;33m)\u001b[0m\u001b[1;33m\u001b[0m\u001b[0m\n\u001b[0;32m      6\u001b[0m \u001b[1;32mprint\u001b[0m \u001b[0mroc_auc_score\u001b[0m\u001b[1;33m(\u001b[0m\u001b[0my_test\u001b[0m\u001b[1;33m,\u001b[0m \u001b[0mlr\u001b[0m\u001b[1;33m.\u001b[0m\u001b[0mpredict_proba\u001b[0m\u001b[1;33m(\u001b[0m\u001b[0mX_test\u001b[0m\u001b[1;33m)\u001b[0m\u001b[1;33m[\u001b[0m\u001b[1;33m:\u001b[0m\u001b[1;33m,\u001b[0m\u001b[1;36m1\u001b[0m\u001b[1;33m]\u001b[0m\u001b[1;33m)\u001b[0m\u001b[1;33m\u001b[0m\u001b[0m\n\u001b[1;32m----> 7\u001b[1;33m \u001b[1;32mprint\u001b[0m \u001b[0mroc_auc_score\u001b[0m\u001b[1;33m(\u001b[0m\u001b[0my_test\u001b[0m\u001b[1;33m,\u001b[0m \u001b[0mdf_neat_pred\u001b[0m\u001b[1;33m)\u001b[0m\u001b[1;33m\u001b[0m\u001b[0m\n\u001b[0m\u001b[0;32m      8\u001b[0m \u001b[1;32mprint\u001b[0m \u001b[0maccuracy_score\u001b[0m\u001b[1;33m(\u001b[0m\u001b[0my_test\u001b[0m\u001b[1;33m,\u001b[0m \u001b[0mlr\u001b[0m\u001b[1;33m.\u001b[0m\u001b[0mpredict\u001b[0m\u001b[1;33m(\u001b[0m\u001b[0mX_test\u001b[0m\u001b[1;33m)\u001b[0m\u001b[1;33m)\u001b[0m\u001b[1;33m\u001b[0m\u001b[0m\n\u001b[0;32m      9\u001b[0m \u001b[1;32mprint\u001b[0m \u001b[0maccuracy_score\u001b[0m\u001b[1;33m(\u001b[0m\u001b[0my_test\u001b[0m\u001b[1;33m,\u001b[0m \u001b[0mnp\u001b[0m\u001b[1;33m.\u001b[0m\u001b[0maround\u001b[0m\u001b[1;33m(\u001b[0m\u001b[0mdf_neat_pred\u001b[0m\u001b[1;33m)\u001b[0m\u001b[1;33m)\u001b[0m\u001b[1;33m\u001b[0m\u001b[0m\n",
      "\u001b[1;32mC:\\Anaconda2\\lib\\site-packages\\sklearn\\metrics\\ranking.pyc\u001b[0m in \u001b[0;36mroc_auc_score\u001b[1;34m(y_true, y_score, average, sample_weight)\u001b[0m\n\u001b[0;32m    251\u001b[0m     return _average_binary_score(\n\u001b[0;32m    252\u001b[0m         \u001b[0m_binary_roc_auc_score\u001b[0m\u001b[1;33m,\u001b[0m \u001b[0my_true\u001b[0m\u001b[1;33m,\u001b[0m \u001b[0my_score\u001b[0m\u001b[1;33m,\u001b[0m \u001b[0maverage\u001b[0m\u001b[1;33m,\u001b[0m\u001b[1;33m\u001b[0m\u001b[0m\n\u001b[1;32m--> 253\u001b[1;33m         sample_weight=sample_weight)\n\u001b[0m\u001b[0;32m    254\u001b[0m \u001b[1;33m\u001b[0m\u001b[0m\n\u001b[0;32m    255\u001b[0m \u001b[1;33m\u001b[0m\u001b[0m\n",
      "\u001b[1;32mC:\\Anaconda2\\lib\\site-packages\\sklearn\\metrics\\base.pyc\u001b[0m in \u001b[0;36m_average_binary_score\u001b[1;34m(binary_metric, y_true, y_score, average, sample_weight)\u001b[0m\n\u001b[0;32m     77\u001b[0m \u001b[1;33m\u001b[0m\u001b[0m\n\u001b[0;32m     78\u001b[0m     \u001b[1;32mif\u001b[0m \u001b[0my_type\u001b[0m \u001b[1;33m==\u001b[0m \u001b[1;34m\"binary\"\u001b[0m\u001b[1;33m:\u001b[0m\u001b[1;33m\u001b[0m\u001b[0m\n\u001b[1;32m---> 79\u001b[1;33m         \u001b[1;32mreturn\u001b[0m \u001b[0mbinary_metric\u001b[0m\u001b[1;33m(\u001b[0m\u001b[0my_true\u001b[0m\u001b[1;33m,\u001b[0m \u001b[0my_score\u001b[0m\u001b[1;33m,\u001b[0m \u001b[0msample_weight\u001b[0m\u001b[1;33m=\u001b[0m\u001b[0msample_weight\u001b[0m\u001b[1;33m)\u001b[0m\u001b[1;33m\u001b[0m\u001b[0m\n\u001b[0m\u001b[0;32m     80\u001b[0m \u001b[1;33m\u001b[0m\u001b[0m\n\u001b[0;32m     81\u001b[0m     \u001b[0mcheck_consistent_length\u001b[0m\u001b[1;33m(\u001b[0m\u001b[0my_true\u001b[0m\u001b[1;33m,\u001b[0m \u001b[0my_score\u001b[0m\u001b[1;33m,\u001b[0m \u001b[0msample_weight\u001b[0m\u001b[1;33m)\u001b[0m\u001b[1;33m\u001b[0m\u001b[0m\n",
      "\u001b[1;32mC:\\Anaconda2\\lib\\site-packages\\sklearn\\metrics\\ranking.pyc\u001b[0m in \u001b[0;36m_binary_roc_auc_score\u001b[1;34m(y_true, y_score, sample_weight)\u001b[0m\n\u001b[0;32m    246\u001b[0m \u001b[1;33m\u001b[0m\u001b[0m\n\u001b[0;32m    247\u001b[0m         fpr, tpr, tresholds = roc_curve(y_true, y_score,\n\u001b[1;32m--> 248\u001b[1;33m                                         sample_weight=sample_weight)\n\u001b[0m\u001b[0;32m    249\u001b[0m         \u001b[1;32mreturn\u001b[0m \u001b[0mauc\u001b[0m\u001b[1;33m(\u001b[0m\u001b[0mfpr\u001b[0m\u001b[1;33m,\u001b[0m \u001b[0mtpr\u001b[0m\u001b[1;33m,\u001b[0m \u001b[0mreorder\u001b[0m\u001b[1;33m=\u001b[0m\u001b[0mTrue\u001b[0m\u001b[1;33m)\u001b[0m\u001b[1;33m\u001b[0m\u001b[0m\n\u001b[0;32m    250\u001b[0m \u001b[1;33m\u001b[0m\u001b[0m\n",
      "\u001b[1;32mC:\\Anaconda2\\lib\\site-packages\\sklearn\\metrics\\ranking.pyc\u001b[0m in \u001b[0;36mroc_curve\u001b[1;34m(y_true, y_score, pos_label, sample_weight, drop_intermediate)\u001b[0m\n\u001b[0;32m    495\u001b[0m     \"\"\"\n\u001b[0;32m    496\u001b[0m     fps, tps, thresholds = _binary_clf_curve(\n\u001b[1;32m--> 497\u001b[1;33m         y_true, y_score, pos_label=pos_label, sample_weight=sample_weight)\n\u001b[0m\u001b[0;32m    498\u001b[0m \u001b[1;33m\u001b[0m\u001b[0m\n\u001b[0;32m    499\u001b[0m     \u001b[1;31m# Attempt to drop thresholds corresponding to points in between and\u001b[0m\u001b[1;33m\u001b[0m\u001b[1;33m\u001b[0m\u001b[0m\n",
      "\u001b[1;32mC:\\Anaconda2\\lib\\site-packages\\sklearn\\metrics\\ranking.pyc\u001b[0m in \u001b[0;36m_binary_clf_curve\u001b[1;34m(y_true, y_score, pos_label, sample_weight)\u001b[0m\n\u001b[0;32m    288\u001b[0m         \u001b[0mDecreasing\u001b[0m \u001b[0mscore\u001b[0m \u001b[0mvalues\u001b[0m\u001b[1;33m.\u001b[0m\u001b[1;33m\u001b[0m\u001b[0m\n\u001b[0;32m    289\u001b[0m     \"\"\"\n\u001b[1;32m--> 290\u001b[1;33m     \u001b[0mcheck_consistent_length\u001b[0m\u001b[1;33m(\u001b[0m\u001b[0my_true\u001b[0m\u001b[1;33m,\u001b[0m \u001b[0my_score\u001b[0m\u001b[1;33m)\u001b[0m\u001b[1;33m\u001b[0m\u001b[0m\n\u001b[0m\u001b[0;32m    291\u001b[0m     \u001b[0my_true\u001b[0m \u001b[1;33m=\u001b[0m \u001b[0mcolumn_or_1d\u001b[0m\u001b[1;33m(\u001b[0m\u001b[0my_true\u001b[0m\u001b[1;33m)\u001b[0m\u001b[1;33m\u001b[0m\u001b[0m\n\u001b[0;32m    292\u001b[0m     \u001b[0my_score\u001b[0m \u001b[1;33m=\u001b[0m \u001b[0mcolumn_or_1d\u001b[0m\u001b[1;33m(\u001b[0m\u001b[0my_score\u001b[0m\u001b[1;33m)\u001b[0m\u001b[1;33m\u001b[0m\u001b[0m\n",
      "\u001b[1;32mC:\\Anaconda2\\lib\\site-packages\\sklearn\\utils\\validation.pyc\u001b[0m in \u001b[0;36mcheck_consistent_length\u001b[1;34m(*arrays)\u001b[0m\n\u001b[0;32m    174\u001b[0m     \u001b[1;32mif\u001b[0m \u001b[0mlen\u001b[0m\u001b[1;33m(\u001b[0m\u001b[0muniques\u001b[0m\u001b[1;33m)\u001b[0m \u001b[1;33m>\u001b[0m \u001b[1;36m1\u001b[0m\u001b[1;33m:\u001b[0m\u001b[1;33m\u001b[0m\u001b[0m\n\u001b[0;32m    175\u001b[0m         raise ValueError(\"Found arrays with inconsistent numbers of samples: \"\n\u001b[1;32m--> 176\u001b[1;33m                          \"%s\" % str(uniques))\n\u001b[0m\u001b[0;32m    177\u001b[0m \u001b[1;33m\u001b[0m\u001b[0m\n\u001b[0;32m    178\u001b[0m \u001b[1;33m\u001b[0m\u001b[0m\n",
      "\u001b[1;31mValueError\u001b[0m: Found arrays with inconsistent numbers of samples: [2497 9985]"
     ]
    }
   ],
   "source": [
    "df_neat_pred = pd.read_csv('neat\\predicted_proba.txt', index_col=None, header=None, sep=' ')\n",
    "# print y_train.shape\n",
    "# print df_neat_pred.shape\n",
    "lr = LogisticRegression(penalty='l2', random_state=241, n_jobs=-1, C=0.005)\n",
    "lr.fit(X_train, y_train)\n",
    "print roc_auc_score(y_test, lr.predict_proba(X_test)[:,1])\n",
    "print roc_auc_score(y_test, df_neat_pred)\n",
    "print accuracy_score(y_test, lr.predict(X_test))\n",
    "print accuracy_score(y_test, np.around(df_neat_pred))"
   ]
  },
  {
   "cell_type": "code",
   "execution_count": 42,
   "metadata": {
    "collapsed": false
   },
   "outputs": [
    {
     "name": "stdout",
     "output_type": "stream",
     "text": [
      "0.999992002909\n",
      "0.77131094014\n",
      "0.99849774662\n",
      "0.704456685028\n"
     ]
    }
   ],
   "source": [
    "df_neat_pred = pd.read_csv('neat\\predicted_proba.txt', index_col=None, header=None, sep=' ')\n",
    "# print y_train.shape\n",
    "# print df_neat_pred.shape\n",
    "lr = LogisticRegression(penalty='l2', random_state=241, n_jobs=-1, C=0.005)\n",
    "lr.fit(X_train, y_train)\n",
    "print roc_auc_score(y_train, lr.predict_proba(X_train)[:,1])\n",
    "print roc_auc_score(y_train, df_neat_pred)\n",
    "print accuracy_score(y_train, lr.predict(X_train))\n",
    "print accuracy_score(y_train, np.around(df_neat_pred))"
   ]
  },
  {
   "cell_type": "code",
   "execution_count": 22,
   "metadata": {
    "collapsed": false
   },
   "outputs": [
    {
     "name": "stdout",
     "output_type": "stream",
     "text": [
      "Counter({0: 5195, 1: 4790})\n"
     ]
    }
   ],
   "source": [
    "from collections import Counter\n",
    "print Counter(y_train)"
   ]
  },
  {
   "cell_type": "code",
   "execution_count": 9,
   "metadata": {
    "collapsed": false
   },
   "outputs": [],
   "source": [
    "id=1\n",
    "with open('neat\\lr2.gnm.xml', 'w') as out:\n",
    "    for c in lr.coef_[0]:      \n",
    "        out.write('<Con id=\"%d\" src=\"%d\" tgt=\"141\" wght=\"%.12f\" />\\n' % (id,id,c))\n",
    "        id += 1\n",
    "# with open(\"neat\\genom2.gnm.xml\") as myfile:\n",
    "#     text = myfile.read()\n",
    "#     with open('neat\\lr2.gnm.xml', 'a') as out:\n",
    "#         out.write(text.format(*lr.coef_[0]))"
   ]
  }
 ],
 "metadata": {
  "kernelspec": {
   "display_name": "Python 2",
   "language": "python",
   "name": "python2"
  },
  "language_info": {
   "codemirror_mode": {
    "name": "ipython",
    "version": 2
   },
   "file_extension": ".py",
   "mimetype": "text/x-python",
   "name": "python",
   "nbconvert_exporter": "python",
   "pygments_lexer": "ipython2",
   "version": "2.7.11"
  }
 },
 "nbformat": 4,
 "nbformat_minor": 0
}
